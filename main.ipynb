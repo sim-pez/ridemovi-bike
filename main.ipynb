{
 "cells": [
  {
   "cell_type": "code",
   "execution_count": 41,
   "id": "7c4ae27b-5c7d-48d3-97de-ec912e5e6bc6",
   "metadata": {},
   "outputs": [
    {
     "ename": "Exception",
     "evalue": "could not find RIDEMOVI_BEARER environment variable",
     "output_type": "error",
     "traceback": [
      "\u001b[0;31m---------------------------------------------------------------------------\u001b[0m",
      "\u001b[0;31mKeyError\u001b[0m                                  Traceback (most recent call last)",
      "Cell \u001b[0;32mIn[41], line 5\u001b[0m\n\u001b[1;32m      4\u001b[0m \u001b[38;5;28;01mtry\u001b[39;00m:\n\u001b[0;32m----> 5\u001b[0m     bearer \u001b[38;5;241m=\u001b[39m \u001b[43mos\u001b[49m\u001b[38;5;241;43m.\u001b[39;49m\u001b[43menviron\u001b[49m\u001b[43m[\u001b[49m\u001b[38;5;124;43m'\u001b[39;49m\u001b[38;5;124;43mRIDEMOVI_BEARER\u001b[39;49m\u001b[38;5;124;43m'\u001b[39;49m\u001b[43m]\u001b[49m\n\u001b[1;32m      6\u001b[0m \u001b[38;5;28;01mexcept\u001b[39;00m:\n",
      "File \u001b[0;32m<frozen os>:679\u001b[0m, in \u001b[0;36m__getitem__\u001b[0;34m(self, key)\u001b[0m\n",
      "\u001b[0;31mKeyError\u001b[0m: 'RIDEMOVI_BEARER'",
      "\nDuring handling of the above exception, another exception occurred:\n",
      "\u001b[0;31mException\u001b[0m                                 Traceback (most recent call last)",
      "Cell \u001b[0;32mIn[41], line 7\u001b[0m\n\u001b[1;32m      5\u001b[0m     bearer \u001b[38;5;241m=\u001b[39m os\u001b[38;5;241m.\u001b[39menviron[\u001b[38;5;124m'\u001b[39m\u001b[38;5;124mRIDEMOVI_BEARER\u001b[39m\u001b[38;5;124m'\u001b[39m]\n\u001b[1;32m      6\u001b[0m \u001b[38;5;28;01mexcept\u001b[39;00m:\n\u001b[0;32m----> 7\u001b[0m     \u001b[38;5;28;01mraise\u001b[39;00m \u001b[38;5;167;01mException\u001b[39;00m(\u001b[38;5;124m'\u001b[39m\u001b[38;5;124mcould not find RIDEMOVI_BEARER environment variable\u001b[39m\u001b[38;5;124m'\u001b[39m)\n\u001b[1;32m      9\u001b[0m url \u001b[38;5;241m=\u001b[39m \u001b[38;5;124m'\u001b[39m\u001b[38;5;124mhttps://api.ridemoviapp.com/mds-provider/gbfs/florence/free_bike_status.json\u001b[39m\u001b[38;5;124m'\u001b[39m\n\u001b[1;32m     11\u001b[0m headers \u001b[38;5;241m=\u001b[39m {\n\u001b[1;32m     12\u001b[0m     \u001b[38;5;124m'\u001b[39m\u001b[38;5;124mAuthorization\u001b[39m\u001b[38;5;124m'\u001b[39m: \u001b[38;5;124mf\u001b[39m\u001b[38;5;124m'\u001b[39m\u001b[38;5;124mBearer \u001b[39m\u001b[38;5;132;01m{\u001b[39;00mbearer\u001b[38;5;132;01m}\u001b[39;00m\u001b[38;5;124m'\u001b[39m,\n\u001b[1;32m     13\u001b[0m }\n",
      "\u001b[0;31mException\u001b[0m: could not find RIDEMOVI_BEARER environment variable"
     ]
    }
   ],
   "source": [
    "import requests\n",
    "import os\n",
    "\n",
    "try:\n",
    "    bearer = os.environ['RIDEMOVI_BEARER']\n",
    "except:\n",
    "    raise Exception('could not find RIDEMOVI_BEARER environment variable')\n",
    "\n",
    "url = 'https://api.ridemoviapp.com/mds-provider/gbfs/florence/free_bike_status.json'\n",
    "\n",
    "headers = {\n",
    "    'Authorization': f'Bearer {bearer}',\n",
    "}\n",
    "\n",
    "response = requests.get(url, headers=headers).json()\n",
    "print('Data fetched. Example:')\n",
    "print(response['data']['bikes'][0])"
   ]
  },
  {
   "cell_type": "code",
   "execution_count": 35,
   "id": "e4557cb6-917e-4a84-9e45-e862f614ee98",
   "metadata": {},
   "outputs": [],
   "source": [
    "from time import localtime\n",
    "import datetime\n",
    "from pyspark.sql.session import SparkSession\n",
    "from pyspark.sql.types import (\n",
    "    FloatType,\n",
    "    StringType,\n",
    "    TimestampType,\n",
    "    StructType,\n",
    "    StructField,\n",
    "    BooleanType,\n",
    "    IntegerType,\n",
    ")\n",
    "\n",
    "# do some data cleaning\n",
    "last_updated_time = datetime.datetime.fromtimestamp(response['last_updated'])\n",
    "data = []\n",
    "for record in response['data']['bikes']:\n",
    "    record['last_update'] = last_updated_time\n",
    "    record.pop('rental_uris')\n",
    "    record['city'] = record['city']['name']\n",
    "    record['lon'] = float(record['lon'])\n",
    "    record['lat'] = float(record['lat'])\n",
    "    data.append(record)\n",
    "\n",
    "# create a spark dataframe\n",
    "spark = SparkSession.builder.getOrCreate()\n",
    "schema = StructType(\n",
    "    [\n",
    "        StructField(\"bike_id\", StringType()),\n",
    "        StructField(\"lon\", FloatType()),\n",
    "        StructField(\"lat\", FloatType()),\n",
    "        StructField(\"is_reserved\", BooleanType()),\n",
    "        StructField(\"is_disabled\", BooleanType()),\n",
    "        StructField(\"vehicle_status\", StringType()),\n",
    "        StructField(\"city\", StringType()),\n",
    "        StructField(\"soc\", IntegerType()),\n",
    "        StructField(\"pricing_plan_id\", StringType()),\n",
    "        StructField(\"vehicle_type_id\", StringType()),\n",
    "        StructField(\"current_range_meters\", IntegerType()),\n",
    "        StructField(\"model\", StringType()),\n",
    "        StructField(\"last_update\", TimestampType()),\n",
    "    ]\n",
    ")\n",
    "df = spark.createDataFrame(data, schema)\n",
    "del data, response"
   ]
  },
  {
   "cell_type": "code",
   "execution_count": 36,
   "id": "42125b9f-a6c3-4fd7-bff1-e51782772fd6",
   "metadata": {},
   "outputs": [
    {
     "name": "stdout",
     "output_type": "stream",
     "text": [
      "Table was not existing. Created from scratch\n",
      "Data added successfully\n"
     ]
    }
   ],
   "source": [
    "table_name = \"ridemovi_bikes\"\n",
    "\n",
    "# you need to create a database before\n",
    "db_name = 'mobility'\n",
    "spark.sql(\"CREATE DATABASE IF NOT EXISTS \" + db_name)\n",
    "\n",
    "# create table if not exists and insert data\n",
    "db_table = f'{db_name}.{table_name}'\n",
    "if not spark.catalog.tableExists(db_table):\n",
    "    df.writeTo(db_table).create()\n",
    "    print(\"Table was not existing. Created from scratch\")\n",
    "else:\n",
    "    df.writeTo(db_table).append()\n",
    "    print(\"Table already exists\")\n",
    "print(\"Data added successfully\")"
   ]
  }
 ],
 "metadata": {
  "kernelspec": {
   "display_name": "Python 3 (ipykernel)",
   "language": "python",
   "name": "python3"
  },
  "language_info": {
   "codemirror_mode": {
    "name": "ipython",
    "version": 3
   },
   "file_extension": ".py",
   "mimetype": "text/x-python",
   "name": "python",
   "nbconvert_exporter": "python",
   "pygments_lexer": "ipython3",
   "version": "3.11.9"
  }
 },
 "nbformat": 4,
 "nbformat_minor": 5
}
